{
 "cells": [
  {
   "attachments": {},
   "cell_type": "markdown",
   "metadata": {},
   "source": [
    "# Module 11 Challenge\n",
    "## Deliverable 2: Scrape and Analyze Mars Weather Data"
   ]
  },
  {
   "cell_type": "code",
   "execution_count": 1,
   "metadata": {},
   "outputs": [],
   "source": [
    "# Import relevant libraries\n",
    "from splinter import Browser\n",
    "from bs4 import BeautifulSoup\n",
    "import matplotlib.pyplot as plt\n",
    "import pandas as pd"
   ]
  },
  {
   "cell_type": "code",
   "execution_count": 2,
   "metadata": {},
   "outputs": [],
   "source": [
    "browser = Browser('chrome')"
   ]
  },
  {
   "attachments": {},
   "cell_type": "markdown",
   "metadata": {},
   "source": [
    "### Step 1: Visit the Website\n",
    "\n",
    "Use automated browsing to visit the [Mars Temperature Data Site](https://static.bc-edx.com/data/web/mars_facts/temperature.html). Inspect the page to identify which elements to scrape.\n",
    "\n",
    "   > **Hint** To identify which elements to scrape, you might want to inspect the page by using Chrome DevTools to discover whether the table contains usable classes.\n"
   ]
  },
  {
   "cell_type": "code",
   "execution_count": 3,
   "metadata": {},
   "outputs": [],
   "source": [
    "# Visit the website\n",
    "# https://static.bc-edx.com/data/web/mars_facts/temperature.html\n",
    "url = \"https://static.bc-edx.com/data/web/mars_facts/temperature.html\"\n",
    "browser.visit(url)\n",
    "html = browser.html\n",
    "browser.quit()"
   ]
  },
  {
   "attachments": {},
   "cell_type": "markdown",
   "metadata": {},
   "source": [
    "### Step 2: Scrape the Table\n",
    "\n",
    "Create a Beautiful Soup object and use it to scrape the data in the HTML table.\n",
    "\n",
    "Note that this can also be achieved by using the Pandas `read_html` function. However, use Beautiful Soup here to continue sharpening your web scraping skills."
   ]
  },
  {
   "cell_type": "code",
   "execution_count": 4,
   "metadata": {},
   "outputs": [],
   "source": [
    "# Create a Beautiful Soup Object\n",
    "soup = BeautifulSoup(html, 'html.parser')"
   ]
  },
  {
   "cell_type": "code",
   "execution_count": 5,
   "metadata": {},
   "outputs": [],
   "source": [
    "# Extract all rows of data\n",
    "headers = soup.find_all('th')\n",
    "raw_data = soup.find_all('tr', class_ = 'data-row')"
   ]
  },
  {
   "attachments": {},
   "cell_type": "markdown",
   "metadata": {},
   "source": [
    "### Step 3: Store the Data\n",
    "\n",
    "Assemble the scraped data into a Pandas DataFrame. The columns should have the same headings as the table on the website. Here’s an explanation of the column headings:\n",
    "\n",
    "* `id`: the identification number of a single transmission from the Curiosity rover\n",
    "* `terrestrial_date`: the date on Earth\n",
    "* `sol`: the number of elapsed sols (Martian days) since Curiosity landed on Mars\n",
    "* `ls`: the solar longitude\n",
    "* `month`: the Martian month\n",
    "* `min_temp`: the minimum temperature, in Celsius, of a single Martian day (sol)\n",
    "* `pressure`: The atmospheric pressure at Curiosity's location"
   ]
  },
  {
   "cell_type": "code",
   "execution_count": 6,
   "metadata": {},
   "outputs": [],
   "source": [
    "# Create an empty list\n",
    "data = []\n",
    "\n",
    "# Loop through the scraped data to create a list of rows\n",
    "for row in raw_data:\n",
    "    items = row.find_all('td')\n",
    "    row_list = [item.text for item in items]\n",
    "    data.append(row_list)\n",
    "\n",
    "# Getting Column Names\n",
    "col_names = [header.text for header in headers]"
   ]
  },
  {
   "cell_type": "markdown",
   "metadata": {},
   "source": [
    "<strong><h5>Note!<br></strong>\n",
    "For fun, the loop was condensed using list comprehension<br>  \n",
    "however this is significantly less readable then the previous version<h5>\n",
    "\n",
    "```python\n",
    "data = [[item.text for item in row.find_all('td')] for row in raw_data]\n",
    "```"
   ]
  },
  {
   "cell_type": "code",
   "execution_count": 7,
   "metadata": {},
   "outputs": [],
   "source": [
    "# Create a Pandas DataFrame by using the list of rows and a list of the column names\n",
    "mars_df = pd.DataFrame(data, columns = col_names)"
   ]
  },
  {
   "cell_type": "code",
   "execution_count": 8,
   "metadata": {},
   "outputs": [
    {
     "data": {
      "application/vnd.microsoft.datawrangler.viewer.v0+json": {
       "columns": [
        {
         "name": "index",
         "rawType": "int64",
         "type": "integer"
        },
        {
         "name": "id",
         "rawType": "object",
         "type": "string"
        },
        {
         "name": "terrestrial_date",
         "rawType": "object",
         "type": "string"
        },
        {
         "name": "sol",
         "rawType": "object",
         "type": "string"
        },
        {
         "name": "ls",
         "rawType": "object",
         "type": "string"
        },
        {
         "name": "month",
         "rawType": "object",
         "type": "string"
        },
        {
         "name": "min_temp",
         "rawType": "object",
         "type": "string"
        },
        {
         "name": "pressure",
         "rawType": "object",
         "type": "string"
        }
       ],
       "conversionMethod": "pd.DataFrame",
       "ref": "6e5af332-8faa-4493-929e-c8d6a5baf71b",
       "rows": [
        [
         "0",
         "2",
         "2012-08-16",
         "10",
         "155",
         "6",
         "-75.0",
         "739.0"
        ],
        [
         "1",
         "13",
         "2012-08-17",
         "11",
         "156",
         "6",
         "-76.0",
         "740.0"
        ],
        [
         "2",
         "24",
         "2012-08-18",
         "12",
         "156",
         "6",
         "-76.0",
         "741.0"
        ],
        [
         "3",
         "35",
         "2012-08-19",
         "13",
         "157",
         "6",
         "-74.0",
         "732.0"
        ],
        [
         "4",
         "46",
         "2012-08-20",
         "14",
         "157",
         "6",
         "-74.0",
         "740.0"
        ],
        [
         "5",
         "57",
         "2012-08-21",
         "15",
         "158",
         "6",
         "-78.0",
         "740.0"
        ],
        [
         "6",
         "68",
         "2012-08-22",
         "16",
         "158",
         "6",
         "-77.0",
         "740.0"
        ],
        [
         "7",
         "79",
         "2012-08-23",
         "17",
         "159",
         "6",
         "-76.0",
         "742.0"
        ],
        [
         "8",
         "112",
         "2012-08-27",
         "21",
         "161",
         "6",
         "-74.0",
         "741.0"
        ],
        [
         "9",
         "114",
         "2012-08-28",
         "22",
         "162",
         "6",
         "-74.0",
         "742.0"
        ],
        [
         "10",
         "123",
         "2012-08-29",
         "23",
         "162",
         "6",
         "-75.0",
         "741.0"
        ],
        [
         "11",
         "134",
         "2012-08-30",
         "24",
         "163",
         "6",
         "-75.0",
         "742.0"
        ],
        [
         "12",
         "145",
         "2012-08-31",
         "25",
         "163",
         "6",
         "-75.0",
         "743.0"
        ],
        [
         "13",
         "156",
         "2012-09-01",
         "26",
         "164",
         "6",
         "-76.0",
         "745.0"
        ],
        [
         "14",
         "163",
         "2012-09-02",
         "27",
         "164",
         "6",
         "-75.0",
         "743.0"
        ],
        [
         "15",
         "170",
         "2012-09-03",
         "28",
         "165",
         "6",
         "-75.0",
         "745.0"
        ],
        [
         "16",
         "171",
         "2012-09-04",
         "29",
         "166",
         "6",
         "-75.0",
         "747.0"
        ],
        [
         "17",
         "172",
         "2012-09-05",
         "30",
         "166",
         "6",
         "-74.0",
         "747.0"
        ],
        [
         "18",
         "173",
         "2012-09-06",
         "31",
         "167",
         "6",
         "-74.0",
         "745.0"
        ],
        [
         "19",
         "175",
         "2012-09-08",
         "33",
         "168",
         "6",
         "-73.0",
         "748.0"
        ],
        [
         "20",
         "176",
         "2012-09-10",
         "34",
         "168",
         "6",
         "-73.0",
         "748.0"
        ],
        [
         "21",
         "177",
         "2012-09-11",
         "35",
         "169",
         "6",
         "-73.0",
         "749.0"
        ],
        [
         "22",
         "178",
         "2012-09-12",
         "36",
         "169",
         "6",
         "-73.0",
         "750.0"
        ],
        [
         "23",
         "179",
         "2012-09-13",
         "37",
         "170",
         "6",
         "-73.0",
         "750.0"
        ],
        [
         "24",
         "180",
         "2012-09-14",
         "38",
         "171",
         "6",
         "-73.0",
         "750.0"
        ],
        [
         "25",
         "181",
         "2012-09-15",
         "39",
         "171",
         "6",
         "-75.0",
         "751.0"
        ],
        [
         "26",
         "182",
         "2012-09-16",
         "40",
         "172",
         "6",
         "-75.0",
         "753.0"
        ],
        [
         "27",
         "183",
         "2012-09-17",
         "41",
         "172",
         "6",
         "-75.0",
         "753.0"
        ],
        [
         "28",
         "184",
         "2012-09-18",
         "42",
         "173",
         "6",
         "-75.0",
         "754.0"
        ],
        [
         "29",
         "185",
         "2012-09-19",
         "43",
         "173",
         "6",
         "-74.0",
         "756.0"
        ],
        [
         "30",
         "186",
         "2012-09-20",
         "44",
         "174",
         "6",
         "-75.0",
         "757.0"
        ],
        [
         "31",
         "187",
         "2012-09-21",
         "45",
         "175",
         "6",
         "-74.0",
         "758.0"
        ],
        [
         "32",
         "188",
         "2012-09-22",
         "46",
         "175",
         "6",
         "-74.0",
         "758.0"
        ],
        [
         "33",
         "189",
         "2012-09-23",
         "47",
         "176",
         "6",
         "-75.0",
         "758.0"
        ],
        [
         "34",
         "190",
         "2012-09-24",
         "48",
         "176",
         "6",
         "-75.0",
         "759.0"
        ],
        [
         "35",
         "191",
         "2012-09-25",
         "49",
         "177",
         "6",
         "-74.0",
         "761.0"
        ],
        [
         "36",
         "192",
         "2012-09-26",
         "50",
         "177",
         "6",
         "-72.0",
         "761.0"
        ],
        [
         "37",
         "193",
         "2012-09-27",
         "51",
         "178",
         "6",
         "-76.0",
         "762.0"
        ],
        [
         "38",
         "194",
         "2012-09-28",
         "52",
         "179",
         "6",
         "-74.0",
         "762.0"
        ],
        [
         "39",
         "195",
         "2012-09-29",
         "53",
         "179",
         "6",
         "-71.0",
         "764.0"
        ],
        [
         "40",
         "196",
         "2012-09-30",
         "54",
         "180",
         "7",
         "-72.0",
         "766.0"
        ],
        [
         "41",
         "197",
         "2012-10-01",
         "55",
         "180",
         "7",
         "-74.0",
         "766.0"
        ],
        [
         "42",
         "198",
         "2012-10-02",
         "56",
         "181",
         "7",
         "-73.0",
         "768.0"
        ],
        [
         "43",
         "199",
         "2012-10-03",
         "57",
         "181",
         "7",
         "-73.0",
         "769.0"
        ],
        [
         "44",
         "200",
         "2012-10-04",
         "58",
         "182",
         "7",
         "-74.0",
         "769.0"
        ],
        [
         "45",
         "201",
         "2012-10-05",
         "59",
         "183",
         "7",
         "-76.0",
         "771.0"
        ],
        [
         "46",
         "202",
         "2012-10-06",
         "60",
         "183",
         "7",
         "-75.0",
         "772.0"
        ],
        [
         "47",
         "203",
         "2012-10-07",
         "61",
         "184",
         "7",
         "-72.0",
         "772.0"
        ],
        [
         "48",
         "204",
         "2012-10-08",
         "62",
         "184",
         "7",
         "-72.0",
         "774.0"
        ],
        [
         "49",
         "205",
         "2012-10-09",
         "63",
         "185",
         "7",
         "-73.0",
         "775.0"
        ]
       ],
       "shape": {
        "columns": 7,
        "rows": 1867
       }
      },
      "text/html": [
       "<div>\n",
       "<style scoped>\n",
       "    .dataframe tbody tr th:only-of-type {\n",
       "        vertical-align: middle;\n",
       "    }\n",
       "\n",
       "    .dataframe tbody tr th {\n",
       "        vertical-align: top;\n",
       "    }\n",
       "\n",
       "    .dataframe thead th {\n",
       "        text-align: right;\n",
       "    }\n",
       "</style>\n",
       "<table border=\"1\" class=\"dataframe\">\n",
       "  <thead>\n",
       "    <tr style=\"text-align: right;\">\n",
       "      <th></th>\n",
       "      <th>id</th>\n",
       "      <th>terrestrial_date</th>\n",
       "      <th>sol</th>\n",
       "      <th>ls</th>\n",
       "      <th>month</th>\n",
       "      <th>min_temp</th>\n",
       "      <th>pressure</th>\n",
       "    </tr>\n",
       "  </thead>\n",
       "  <tbody>\n",
       "    <tr>\n",
       "      <th>0</th>\n",
       "      <td>2</td>\n",
       "      <td>2012-08-16</td>\n",
       "      <td>10</td>\n",
       "      <td>155</td>\n",
       "      <td>6</td>\n",
       "      <td>-75.0</td>\n",
       "      <td>739.0</td>\n",
       "    </tr>\n",
       "    <tr>\n",
       "      <th>1</th>\n",
       "      <td>13</td>\n",
       "      <td>2012-08-17</td>\n",
       "      <td>11</td>\n",
       "      <td>156</td>\n",
       "      <td>6</td>\n",
       "      <td>-76.0</td>\n",
       "      <td>740.0</td>\n",
       "    </tr>\n",
       "    <tr>\n",
       "      <th>2</th>\n",
       "      <td>24</td>\n",
       "      <td>2012-08-18</td>\n",
       "      <td>12</td>\n",
       "      <td>156</td>\n",
       "      <td>6</td>\n",
       "      <td>-76.0</td>\n",
       "      <td>741.0</td>\n",
       "    </tr>\n",
       "    <tr>\n",
       "      <th>3</th>\n",
       "      <td>35</td>\n",
       "      <td>2012-08-19</td>\n",
       "      <td>13</td>\n",
       "      <td>157</td>\n",
       "      <td>6</td>\n",
       "      <td>-74.0</td>\n",
       "      <td>732.0</td>\n",
       "    </tr>\n",
       "    <tr>\n",
       "      <th>4</th>\n",
       "      <td>46</td>\n",
       "      <td>2012-08-20</td>\n",
       "      <td>14</td>\n",
       "      <td>157</td>\n",
       "      <td>6</td>\n",
       "      <td>-74.0</td>\n",
       "      <td>740.0</td>\n",
       "    </tr>\n",
       "    <tr>\n",
       "      <th>...</th>\n",
       "      <td>...</td>\n",
       "      <td>...</td>\n",
       "      <td>...</td>\n",
       "      <td>...</td>\n",
       "      <td>...</td>\n",
       "      <td>...</td>\n",
       "      <td>...</td>\n",
       "    </tr>\n",
       "    <tr>\n",
       "      <th>1862</th>\n",
       "      <td>1889</td>\n",
       "      <td>2018-02-23</td>\n",
       "      <td>1973</td>\n",
       "      <td>133</td>\n",
       "      <td>5</td>\n",
       "      <td>-78.0</td>\n",
       "      <td>730.0</td>\n",
       "    </tr>\n",
       "    <tr>\n",
       "      <th>1863</th>\n",
       "      <td>1892</td>\n",
       "      <td>2018-02-24</td>\n",
       "      <td>1974</td>\n",
       "      <td>134</td>\n",
       "      <td>5</td>\n",
       "      <td>-77.0</td>\n",
       "      <td>729.0</td>\n",
       "    </tr>\n",
       "    <tr>\n",
       "      <th>1864</th>\n",
       "      <td>1894</td>\n",
       "      <td>2018-02-25</td>\n",
       "      <td>1975</td>\n",
       "      <td>134</td>\n",
       "      <td>5</td>\n",
       "      <td>-76.0</td>\n",
       "      <td>729.0</td>\n",
       "    </tr>\n",
       "    <tr>\n",
       "      <th>1865</th>\n",
       "      <td>1893</td>\n",
       "      <td>2018-02-26</td>\n",
       "      <td>1976</td>\n",
       "      <td>135</td>\n",
       "      <td>5</td>\n",
       "      <td>-77.0</td>\n",
       "      <td>728.0</td>\n",
       "    </tr>\n",
       "    <tr>\n",
       "      <th>1866</th>\n",
       "      <td>1895</td>\n",
       "      <td>2018-02-27</td>\n",
       "      <td>1977</td>\n",
       "      <td>135</td>\n",
       "      <td>5</td>\n",
       "      <td>-77.0</td>\n",
       "      <td>727.0</td>\n",
       "    </tr>\n",
       "  </tbody>\n",
       "</table>\n",
       "<p>1867 rows × 7 columns</p>\n",
       "</div>"
      ],
      "text/plain": [
       "        id terrestrial_date   sol   ls month min_temp pressure\n",
       "0        2       2012-08-16    10  155     6    -75.0    739.0\n",
       "1       13       2012-08-17    11  156     6    -76.0    740.0\n",
       "2       24       2012-08-18    12  156     6    -76.0    741.0\n",
       "3       35       2012-08-19    13  157     6    -74.0    732.0\n",
       "4       46       2012-08-20    14  157     6    -74.0    740.0\n",
       "...    ...              ...   ...  ...   ...      ...      ...\n",
       "1862  1889       2018-02-23  1973  133     5    -78.0    730.0\n",
       "1863  1892       2018-02-24  1974  134     5    -77.0    729.0\n",
       "1864  1894       2018-02-25  1975  134     5    -76.0    729.0\n",
       "1865  1893       2018-02-26  1976  135     5    -77.0    728.0\n",
       "1866  1895       2018-02-27  1977  135     5    -77.0    727.0\n",
       "\n",
       "[1867 rows x 7 columns]"
      ]
     },
     "metadata": {},
     "output_type": "display_data"
    }
   ],
   "source": [
    "# Confirm DataFrame was created successfully\n",
    "display(mars_df)"
   ]
  },
  {
   "attachments": {},
   "cell_type": "markdown",
   "metadata": {},
   "source": [
    "### Step 4: Prepare Data for Analysis\n",
    "\n",
    "Examine the data types that are currently associated with each column. If necessary, cast (or convert) the data to the appropriate `datetime`, `int`, or `float` data types.\n",
    "\n",
    "  > **Hint** You can use the Pandas `astype` and `to_datetime` methods to accomplish this task.\n"
   ]
  },
  {
   "cell_type": "code",
   "execution_count": 9,
   "metadata": {},
   "outputs": [
    {
     "data": {
      "text/plain": [
       "id                  object\n",
       "terrestrial_date    object\n",
       "sol                 object\n",
       "ls                  object\n",
       "month               object\n",
       "min_temp            object\n",
       "pressure            object\n",
       "dtype: object"
      ]
     },
     "execution_count": 9,
     "metadata": {},
     "output_type": "execute_result"
    }
   ],
   "source": [
    "# Examine data type of each column\n",
    "mars_df.dtypes"
   ]
  },
  {
   "cell_type": "code",
   "execution_count": 10,
   "metadata": {},
   "outputs": [],
   "source": [
    "# Change data types for data analysis\n",
    "mars_df['id'] = mars_df['id'].astype(int)\n",
    "mars_df['terrestrial_date'] = mars_df['terrestrial_date'].astype('datetime64[ns]')\n",
    "mars_df['sol'] = mars_df['sol'].astype(int)\n",
    "mars_df['ls'] = mars_df['ls'].astype(int)\n",
    "mars_df['month'] = mars_df['month'].astype(int)\n",
    "mars_df['min_temp'] = mars_df['min_temp'].astype(float)\n",
    "mars_df['pressure'] = mars_df['pressure'].astype(float)"
   ]
  },
  {
   "cell_type": "code",
   "execution_count": 11,
   "metadata": {},
   "outputs": [
    {
     "data": {
      "text/plain": [
       "id                           int64\n",
       "terrestrial_date    datetime64[ns]\n",
       "sol                          int64\n",
       "ls                           int64\n",
       "month                        int64\n",
       "min_temp                   float64\n",
       "pressure                   float64\n",
       "dtype: object"
      ]
     },
     "execution_count": 11,
     "metadata": {},
     "output_type": "execute_result"
    }
   ],
   "source": [
    "# Confirm type changes were successful by examining data types again\n",
    "mars_df.dtypes"
   ]
  },
  {
   "attachments": {},
   "cell_type": "markdown",
   "metadata": {},
   "source": [
    "### Step 5: Analyze the Data\n",
    "\n",
    "Analyze your dataset by using Pandas functions to answer the following questions:\n",
    "\n",
    "1. How many months exist on Mars?\n",
    "2. How many Martian (and not Earth) days worth of data exist in the scraped dataset?\n",
    "3. What are the coldest and the warmest months on Mars (at the location of Curiosity)? To answer this question:\n",
    "    * Find the average the minimum daily temperature for all of the months.\n",
    "    * Plot the results as a bar chart.\n",
    "4. Which months have the lowest and the highest atmospheric pressure on Mars? To answer this question:\n",
    "    * Find the average the daily atmospheric pressure of all the months.\n",
    "    * Plot the results as a bar chart.\n",
    "5. About how many terrestrial (Earth) days exist in a Martian year? To answer this question:\n",
    "    * Consider how many days elapse on Earth in the time that Mars circles the Sun once.\n",
    "    * Visually estimate the result by plotting the daily minimum temperature.\n"
   ]
  },
  {
   "cell_type": "code",
   "execution_count": 12,
   "metadata": {},
   "outputs": [
    {
     "data": {
      "text/plain": [
       "12"
      ]
     },
     "execution_count": 12,
     "metadata": {},
     "output_type": "execute_result"
    }
   ],
   "source": [
    "# 1. How many months are there on Mars?\n",
    "mars_df['month'].max()"
   ]
  },
  {
   "cell_type": "code",
   "execution_count": 13,
   "metadata": {},
   "outputs": [
    {
     "data": {
      "text/plain": [
       "1867"
      ]
     },
     "execution_count": 13,
     "metadata": {},
     "output_type": "execute_result"
    }
   ],
   "source": [
    "# 2. How many sols (Martian days) worth of data are there?\n",
    "len(mars_df['sol'].unique())"
   ]
  },
  {
   "cell_type": "code",
   "execution_count": 14,
   "metadata": {},
   "outputs": [
    {
     "data": {
      "text/plain": [
       "month\n",
       "1    -77.160920\n",
       "2    -79.932584\n",
       "3    -83.307292\n",
       "4    -82.747423\n",
       "5    -79.308725\n",
       "6    -75.299320\n",
       "7    -72.281690\n",
       "8    -68.382979\n",
       "9    -69.171642\n",
       "10   -71.982143\n",
       "11   -71.985507\n",
       "12   -74.451807\n",
       "Name: min_temp, dtype: float64"
      ]
     },
     "execution_count": 14,
     "metadata": {},
     "output_type": "execute_result"
    }
   ],
   "source": [
    "# 3. What is the average minimum temperature by month?\n",
    "temp_byMonth = mars_df.groupby('month')['min_temp'].mean()\n",
    "temp_byMonth"
   ]
  },
  {
   "cell_type": "code",
   "execution_count": 15,
   "metadata": {},
   "outputs": [
    {
     "data": {
      "image/png": "[encoded data removed]",
      "text/plain": [
       "<Figure size 640x480 with 1 Axes>"
      ]
     },
     "metadata": {},
     "output_type": "display_data"
    }
   ],
   "source": [
    "# Plot the average minimum temperature by month\n",
    "temp_byMonth.plot(\n",
    "    kind = 'bar'\n",
    "    ,title = 'Average Minimum Temperature by Month'\n",
    "    ,xlabel = 'Month'\n",
    "    ,ylabel = 'Temperature in Celsius'\n",
    ")\n",
    "plt.show()"
   ]
  },
  {
   "cell_type": "code",
   "execution_count": 16,
   "metadata": {},
   "outputs": [
    {
     "data": {
      "image/png": "[encoded data removed]",
      "text/plain": [
       "<Figure size 640x480 with 1 Axes>"
      ]
     },
     "metadata": {},
     "output_type": "display_data"
    }
   ],
   "source": [
    "# Identify the coldest and hottest months in Curiosity's location by sorting the previous graph\n",
    "(\n",
    "    temp_byMonth\n",
    "        .sort_values(axis = 0, ascending = True)\n",
    "            .plot(\n",
    "                kind = 'bar'\n",
    "                ,title = 'Average Minimum Temperature by Month'\n",
    "                ,xlabel = 'Month (Sorted by Temperatures)'\n",
    "                ,ylabel = 'Temperature in Celsius'\n",
    "            )\n",
    ")\n",
    "plt.savefig('Figures/avgTemp_ByMonth.png')\n",
    "plt.show()"
   ]
  },
  {
   "cell_type": "code",
   "execution_count": 17,
   "metadata": {},
   "outputs": [
    {
     "name": "stdout",
     "output_type": "stream",
     "text": [
      "Hottest Month: 8\n",
      "Coldest Month: 3\n"
     ]
    }
   ],
   "source": [
    "print(\n",
    "    'Hottest Month: 8\\n'\n",
    "    'Coldest Month: 3'\n",
    ")"
   ]
  },
  {
   "cell_type": "code",
   "execution_count": 18,
   "metadata": {},
   "outputs": [
    {
     "data": {
      "text/plain": [
       "month\n",
       "1     862.488506\n",
       "2     889.455056\n",
       "3     877.322917\n",
       "4     806.329897\n",
       "5     748.557047\n",
       "6     745.054422\n",
       "7     795.105634\n",
       "8     873.829787\n",
       "9     913.305970\n",
       "10    887.312500\n",
       "11    857.014493\n",
       "12    842.156627\n",
       "Name: pressure, dtype: float64"
      ]
     },
     "execution_count": 18,
     "metadata": {},
     "output_type": "execute_result"
    }
   ],
   "source": [
    "# 4. What is the average pressure by month?\n",
    "atm_byMonth = mars_df.groupby('month')['pressure'].mean()\n",
    "atm_byMonth"
   ]
  },
  {
   "cell_type": "code",
   "execution_count": 19,
   "metadata": {},
   "outputs": [
    {
     "data": {
      "image/png": "[encoded data removed]",
      "text/plain": [
       "<Figure size 640x480 with 1 Axes>"
      ]
     },
     "metadata": {},
     "output_type": "display_data"
    }
   ],
   "source": [
    "# Plot the average pressure by month\n",
    "atm_byMonth.plot(\n",
    "    kind = 'bar'\n",
    "    ,title = 'Average Pressure by Month'\n",
    "    ,xlabel = 'Month'\n",
    "    ,ylabel = 'Atmospheric Pressure'\n",
    ")\n",
    "plt.show()"
   ]
  },
  {
   "cell_type": "code",
   "execution_count": 20,
   "metadata": {},
   "outputs": [
    {
     "data": {
      "image/png": "[encoded data removed]",
      "text/plain": [
       "<Figure size 640x480 with 1 Axes>"
      ]
     },
     "metadata": {},
     "output_type": "display_data"
    }
   ],
   "source": [
    "# Identify the lowest and highest pressure months in Curiosity's location by sorting the previous graph\n",
    "(    \n",
    "    atm_byMonth\n",
    "        .sort_values(axis = 0, ascending = True)\n",
    "            .plot(\n",
    "                kind = 'bar'\n",
    "                ,title = 'Average Pressure by Month'\n",
    "                ,xlabel = 'Month'\n",
    "                ,ylabel = 'Atmospheric Pressure'\n",
    "            )\n",
    ")\n",
    "plt.savefig('Figures/avgAtm_byMonth.png')\n",
    "plt.show()"
   ]
  },
  {
   "cell_type": "code",
   "execution_count": 21,
   "metadata": {},
   "outputs": [
    {
     "name": "stdout",
     "output_type": "stream",
     "text": [
      "Lowest Pressure Month:  6\n",
      "Highest Pressure Month: 9\n"
     ]
    }
   ],
   "source": [
    "print(\n",
    "    'Lowest Pressure Month:  6\\n'\n",
    "    'Highest Pressure Month: 9'\n",
    ")"
   ]
  },
  {
   "cell_type": "code",
   "execution_count": 22,
   "metadata": {},
   "outputs": [
    {
     "data": {
      "image/png": "[encoded data removed]",
      "text/plain": [
       "<Figure size 640x480 with 1 Axes>"
      ]
     },
     "metadata": {},
     "output_type": "display_data"
    }
   ],
   "source": [
    "# 5. How many terrestrial (Earth) days are there in a Martian year?\n",
    "# Visually estimate the result by plotting the daily minimum temperature of each observation in the data set.\n",
    "mars_df['min_temp'].plot(\n",
    "    title = 'Minimum Temperature over Time'\n",
    "    ,xlabel = 'Number of Terrestrial Days'\n",
    "    ,ylabel = 'Minimum Temperature'\n",
    ")\n",
    "plt.savefig('Figures/temp_byTime.png')\n",
    "plt.show()"
   ]
  },
  {
   "attachments": {},
   "cell_type": "markdown",
   "metadata": {},
   "source": [
    "#### Minimum Temperature\n",
    "\n",
    "YOUR ANALYSIS HERE"
   ]
  },
  {
   "cell_type": "code",
   "execution_count": 23,
   "metadata": {},
   "outputs": [
    {
     "data": {
      "text/plain": [
       "month\n",
       "1    -77.160920\n",
       "2    -79.932584\n",
       "3    -83.307292\n",
       "4    -82.747423\n",
       "5    -79.308725\n",
       "6    -75.299320\n",
       "7    -72.281690\n",
       "8    -68.382979\n",
       "9    -69.171642\n",
       "10   -71.982143\n",
       "11   -71.985507\n",
       "12   -74.451807\n",
       "Name: min_temp, dtype: float64"
      ]
     },
     "execution_count": 23,
     "metadata": {},
     "output_type": "execute_result"
    }
   ],
   "source": [
    "temp_byMonth"
   ]
  },
  {
   "attachments": {},
   "cell_type": "markdown",
   "metadata": {},
   "source": [
    "#### Atmospheric Pressure\n",
    "\n",
    "YOUR ANALYSIS HERE"
   ]
  },
  {
   "attachments": {},
   "cell_type": "markdown",
   "metadata": {},
   "source": [
    "#### Year Length\n",
    "\n",
    "YOUR ANALYSIS HERE"
   ]
  },
  {
   "attachments": {},
   "cell_type": "markdown",
   "metadata": {},
   "source": [
    "### Step 6: Save the Data\n",
    "\n",
    "Export the DataFrame to a CSV file."
   ]
  },
  {
   "cell_type": "code",
   "execution_count": 24,
   "metadata": {},
   "outputs": [],
   "source": [
    "# Write the data to a CSV\n",
    "mars_df.to_csv(\n",
    "    'mars_data.csv'\n",
    "    ,sep = ','\n",
    "    ,index = False\n",
    "    ,header = True\n",
    ")"
   ]
  }
 ],
 "metadata": {
  "kernelspec": {
   "display_name": "base",
   "language": "python",
   "name": "python3"
  },
  "language_info": {
   "codemirror_mode": {
    "name": "ipython",
    "version": 3
   },
   "file_extension": ".py",
   "mimetype": "text/x-python",
   "name": "python",
   "nbconvert_exporter": "python",
   "pygments_lexer": "ipython3",
   "version": "3.12.2"
  }
 },
 "nbformat": 4,
 "nbformat_minor": 4
}
